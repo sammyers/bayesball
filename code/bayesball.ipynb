{
 "cells": [
  {
   "cell_type": "code",
   "execution_count": null,
   "metadata": {},
   "outputs": [],
   "source": [
    "from thinkbayes2 import Pmf, Cdf, Suite, MakeJoint\n",
    "import thinkplot\n",
    "\n",
    "import pymc3 as pm\n",
    "import numpy as np\n",
    "\n",
    "from pymc3.math import exp, log"
   ]
  },
  {
   "cell_type": "code",
   "execution_count": null,
   "metadata": {},
   "outputs": [],
   "source": [
    "def plotCdf(values, *args, **kwargs):\n",
    "    thinkplot.Cdf(Cdf(values), *args, **kwargs)"
   ]
  },
  {
   "cell_type": "markdown",
   "metadata": {},
   "source": [
    "# Problem Description\n",
    "In the 2018 season of Major League Baseball...\n",
    "\n",
    "We want to estimate which team is the best team, and ..."
   ]
  },
  {
   "cell_type": "code",
   "execution_count": null,
   "metadata": {},
   "outputs": [],
   "source": [
    "class Baseball(object):\n",
    "    \"\"\"\n",
    "    A Baseball object contains properties about fundamental properties of \n",
    "    the sport of Baseball itself, represented with PyMC3 distributions.\n",
    "    \"\"\"\n",
    "    \n",
    "    def __init__(self, name='baseball'):\n",
    "        self.name = name\n",
    "        \n",
    "        self.mean_score = pm.Normal(f'{name}.mean_score', mu=4.5, sd=1) # Based on Sam's guess\n",
    "        self.home_field_advantage = pm.Exponential(f'{name}.home_field_advantage', lam=3)  # goals"
   ]
  },
  {
   "cell_type": "code",
   "execution_count": null,
   "metadata": {},
   "outputs": [],
   "source": [
    "class Team(object):\n",
    "    def __init__(self, name, baseball):\n",
    "        self.name = name\n",
    "        self.baseball = baseball\n",
    "        \n",
    "        self.quality = pm.Normal(f'{name}.quality', mu=0, sd=1)\n",
    "        \n",
    "    def model_game(self, opponent : Team, homefield : bool, observed_runs=None, name=None):\n",
    "        if not name:\n",
    "            name = f'{self.name}_v_{opponent.name}'\n",
    "            \n",
    "        expected_runs = self.baseball.mean_score * (exp(self.quality) / exp(opponent.quality))\n",
    "        \n",
    "        if homefield:\n",
    "            expected_runs = expected_runs + self.baseball.home_field_advantage\n",
    "        \n",
    "        pm.Poisson(name, mu=expected_runs, observed=observed_runs)\n"
   ]
  },
  {
   "cell_type": "code",
   "execution_count": null,
   "metadata": {},
   "outputs": [],
   "source": [
    "with pm.Model() as model:\n",
    "    bb = Baseball()\n",
    "    \n",
    "    teams = {0: Team('team0', bb), 1: Team('team1', bb)}\n",
    "    \n",
    "    teams[1].model_game(teams[0], True, 10)\n",
    "    teams[0].model_game(teams[1], False, 4)"
   ]
  },
  {
   "cell_type": "code",
   "execution_count": null,
   "metadata": {},
   "outputs": [],
   "source": [
    "# Inspect the prior distribution\n",
    "\n",
    "with model:\n",
    "    prior_trace = pm.sample_prior_predictive()\n",
    "\n",
    "for k, values in sorted(prior_trace.items()):\n",
    "    if k.endswith('__'):\n",
    "        continue\n",
    "    plotCdf(values, label=k)\n",
    "    thinkplot.Show()"
   ]
  },
  {
   "cell_type": "code",
   "execution_count": null,
   "metadata": {},
   "outputs": [],
   "source": []
  },
  {
   "cell_type": "code",
   "execution_count": null,
   "metadata": {},
   "outputs": [],
   "source": [
    "# Inspect the posterior distribution\n",
    "with model:\n",
    "    trace = pm.sample(1000)"
   ]
  },
  {
   "cell_type": "code",
   "execution_count": null,
   "metadata": {},
   "outputs": [],
   "source": [
    "for k in sorted(trace.varnames):\n",
    "    values = trace[k]\n",
    "    if k.endswith('__'):\n",
    "        continue\n",
    "    plotCdf(prior_trace[k], color='grey', label='prior')\n",
    "    plotCdf(values, label=k)\n",
    "    thinkplot.Show()"
   ]
  },
  {
   "cell_type": "code",
   "execution_count": null,
   "metadata": {},
   "outputs": [],
   "source": [
    "np.mean((trace['team1.quality'] - trace['team0.quality'])>0)"
   ]
  },
  {
   "cell_type": "code",
   "execution_count": null,
   "metadata": {},
   "outputs": [],
   "source": []
  }
 ],
 "metadata": {
  "kernelspec": {
   "display_name": "Python 3",
   "language": "python",
   "name": "python3"
  },
  "language_info": {
   "codemirror_mode": {
    "name": "ipython",
    "version": 3
   },
   "file_extension": ".py",
   "mimetype": "text/x-python",
   "name": "python",
   "nbconvert_exporter": "python",
   "pygments_lexer": "ipython3",
   "version": "3.6.5"
  }
 },
 "nbformat": 4,
 "nbformat_minor": 2
}
