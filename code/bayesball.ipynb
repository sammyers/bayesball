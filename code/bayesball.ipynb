{
 "cells": [
  {
   "cell_type": "code",
   "execution_count": null,
   "metadata": {},
   "outputs": [],
   "source": [
    "from thinkbayes2 import Pmf, Cdf, Suite, MakeJoint\n",
    "import thinkplot\n",
    "\n",
    "import pymc3 as pm\n",
    "import numpy as np\n",
    "\n",
    "from pymc3.math import exp, log"
   ]
  },
  {
   "cell_type": "code",
   "execution_count": null,
   "metadata": {},
   "outputs": [],
   "source": [
    "def plotCdf(values, *args, **kwargs):\n",
    "    thinkplot.Cdf(Cdf(values), *args, **kwargs)"
   ]
  },
  {
   "cell_type": "markdown",
   "metadata": {},
   "source": [
    "# Problem Description\n",
    "In the 2018 season of Major League Baseball...\n",
    "\n",
    "We want to estimate which team is the best team, and ..."
   ]
  },
  {
   "cell_type": "markdown",
   "metadata": {},
   "source": [
    "To accomplish this, we build an object-oriented PyMC model that predicts the expected number of runs scored by a given team in a game against another team. The model also includes mechanisms for representing properties of Baseball as a game, allowing it to build a Bayesian estimate of the mean score in a baseball game and the additional runs that a team is expected to get from having home field advantage."
   ]
  },
  {
   "cell_type": "code",
   "execution_count": null,
   "metadata": {},
   "outputs": [],
   "source": [
    "class Baseball(object):\n",
    "    \"\"\"\n",
    "    A Baseball object contains properties about fundamental properties of \n",
    "    the sport of Baseball itself, represented with PyMC3 distributions.\n",
    "    \"\"\"\n",
    "    \n",
    "    def __init__(self, name='baseball'):\n",
    "        self.name = name\n",
    "        \n",
    "        self.mean_score = pm.Normal(f'{name}.mean_score', mu=4.5, sd=1) # Based on Sam's guess\n",
    "        self.home_field_advantage = pm.Exponential(f'{name}.home_field_advantage', lam=3)  # goals"
   ]
  },
  {
   "cell_type": "markdown",
   "metadata": {},
   "source": [
    "The model we use for runs is a Poisson process with parameter dependent on the skills of both teams, as well as which team has home field advantage. In particular, we model the expected number of runs a given team will score in a game as \n",
    "\n",
    "$$k_{baseball} * \\frac{e^{skill_{you}}}{e^{skill_{opponent}}} + home_field_boost$$\n",
    "\n",
    "where\n",
    "\n",
    "\\begin{cases} \n",
    "      home_field_boost =  & x\\leq 0 \\\\\n",
    "      \\frac{100-x}{100} & 0\\leq x\\leq 100 \\\\\n",
    "      0 & 100\\leq x \n",
    "   \\end{cases}"
   ]
  },
  {
   "cell_type": "code",
   "execution_count": null,
   "metadata": {},
   "outputs": [],
   "source": [
    "class Team(object):\n",
    "    def __init__(self, name, baseball):\n",
    "        self.name = name\n",
    "        self.baseball = baseball\n",
    "        \n",
    "        self.quality = pm.Normal(f'{name}.quality', mu=0, sd=1)\n",
    "        \n",
    "    def model_game(self, opponent, homefield : bool, observed_runs=None, name=None):\n",
    "        if not name:\n",
    "            name = f'{self.name}_v_{opponent.name}'\n",
    "            \n",
    "        expected_runs = self.baseball.mean_score * (exp(self.quality) / exp(opponent.quality))\n",
    "        \n",
    "        if homefield:\n",
    "            expected_runs += self.baseball.home_field_advantage\n",
    "        \n",
    "        pm.Poisson(name, mu=expected_runs, observed=observed_runs)\n"
   ]
  },
  {
   "cell_type": "code",
   "execution_count": null,
   "metadata": {},
   "outputs": [],
   "source": [
    "with pm.Model() as model:\n",
    "    bb = Baseball()\n",
    "    \n",
    "    teams = {0: Team('team0', bb), 1: Team('team1', bb)}\n",
    "    \n",
    "    teams[1].model_game(teams[0], True, 10)\n",
    "    teams[0].model_game(teams[1], False, 4)"
   ]
  },
  {
   "cell_type": "code",
   "execution_count": null,
   "metadata": {},
   "outputs": [],
   "source": [
    "# Inspect the prior distribution\n",
    "\n",
    "with model:\n",
    "    prior_trace = pm.sample_prior_predictive()\n",
    "\n",
    "for k, values in sorted(prior_trace.items()):\n",
    "    if k.endswith('__'):\n",
    "        continue\n",
    "    plotCdf(values, label=k)\n",
    "    thinkplot.Show()"
   ]
  },
  {
   "cell_type": "code",
   "execution_count": null,
   "metadata": {},
   "outputs": [],
   "source": [
    "# Infer the posterior distributions\n",
    "with model:\n",
    "    trace = pm.sample(1000)\n",
    "    \n",
    "pm.traceplot(trace);"
   ]
  },
  {
   "cell_type": "code",
   "execution_count": null,
   "metadata": {},
   "outputs": [],
   "source": [
    "for k in sorted(trace.varnames):\n",
    "    values = trace[k]\n",
    "    if k.endswith('__'):\n",
    "        continue\n",
    "    plotCdf(prior_trace[k], color='grey', label='prior')\n",
    "    plotCdf(values, label='posterior')\n",
    "    thinkplot.Config(title=k)\n",
    "    thinkplot.Show()"
   ]
  },
  {
   "cell_type": "code",
   "execution_count": null,
   "metadata": {},
   "outputs": [],
   "source": [
    "plotCdf(prior_trace['team1.quality'] - prior_trace['team0.quality'], label='prior', color='grey')\n",
    "plotCdf(trace['team1.quality'] - trace['team0.quality'], label='posterior')\n",
    "thinkplot.Config(title='Quality differential')\n",
    "\n",
    "print('{} chance that Team 1 is better'.format(np.mean((trace['team1.quality'] - trace['team0.quality'])>0)))"
   ]
  },
  {
   "cell_type": "code",
   "execution_count": null,
   "metadata": {},
   "outputs": [],
   "source": []
  }
 ],
 "metadata": {
  "kernelspec": {
   "display_name": "Python 3",
   "language": "python",
   "name": "python3"
  },
  "language_info": {
   "codemirror_mode": {
    "name": "ipython",
    "version": 3
   },
   "file_extension": ".py",
   "mimetype": "text/x-python",
   "name": "python",
   "nbconvert_exporter": "python",
   "pygments_lexer": "ipython3",
   "version": "3.6.5"
  }
 },
 "nbformat": 4,
 "nbformat_minor": 2
}
